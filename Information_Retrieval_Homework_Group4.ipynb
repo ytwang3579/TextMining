{
  "nbformat": 4,
  "nbformat_minor": 0,
  "metadata": {
    "colab": {
      "name": "Information_Retrieval_Homework_Group4.ipynb",
      "provenance": [],
      "collapsed_sections": [],
      "include_colab_link": true
    },
    "kernelspec": {
      "name": "python3",
      "display_name": "Python 3"
    }
  },
  "cells": [
    {
      "cell_type": "markdown",
      "metadata": {
        "id": "view-in-github",
        "colab_type": "text"
      },
      "source": [
        "<a href=\"https://colab.research.google.com/github/ytwang3579/TextMining/blob/master/Information_Retrieval_Homework_Group4.ipynb\" target=\"_parent\"><img src=\"https://colab.research.google.com/assets/colab-badge.svg\" alt=\"Open In Colab\"/></a>"
      ]
    },
    {
      "cell_type": "markdown",
      "metadata": {
        "id": "Ckz7473QXAch",
        "colab_type": "text"
      },
      "source": [
        "#- Information Retrieval - Vector Space Model- Homework sample code "
      ]
    },
    {
      "cell_type": "code",
      "metadata": {
        "id": "q1zO77SWh-rW",
        "colab_type": "code",
        "outputId": "6ab8e503-ba5c-4da5-ff2c-5b08774750bb",
        "colab": {
          "base_uri": "https://localhost:8080/",
          "height": 34
        }
      },
      "source": [
        "#Mount google drive to google colab virtual machine\n",
        "from google.colab import drive\n",
        "drive.mount('/content/drive')\n",
        "mydrive =\"/content/drive/My Drive/Colab Notebooks/\""
      ],
      "execution_count": 1,
      "outputs": [
        {
          "output_type": "stream",
          "text": [
            "Drive already mounted at /content/drive; to attempt to forcibly remount, call drive.mount(\"/content/drive\", force_remount=True).\n"
          ],
          "name": "stdout"
        }
      ]
    },
    {
      "cell_type": "markdown",
      "metadata": {
        "id": "aDbXmHAP6K3n",
        "colab_type": "text"
      },
      "source": [
        "**Step 1: connect to google drive , Read all document from google drive**\n",
        "**you need to upload the data to your google drive with correct path**\n"
      ]
    },
    {
      "cell_type": "code",
      "metadata": {
        "id": "VtoulvPvpz5O",
        "colab_type": "code",
        "outputId": "6984bb5f-4a45-43bb-f39b-e7e28b88dbd7",
        "colab": {
          "base_uri": "https://localhost:8080/",
          "height": 51
        }
      },
      "source": [
        "# this code will read all file in \"movies_synopsis\" folder, use nltk to tokenize and convert to lower()case\n",
        "import nltk,os\n",
        "nltk.download('punkt')\n",
        "file_path = mydrive +\"movies_synopsis/\"\n",
        "doc_all={}\n",
        "\n",
        "for filename in os.listdir(file_path ):\n",
        "  fileExtension = filename.split(\".\")[-1]\n",
        "  if fileExtension == \"txt\": # just read .txt file, in case google drive insert some hidden file which make the error.\n",
        "    text = open(file_path+filename).read()\n",
        "    tokens = nltk.word_tokenize(text)\n",
        "    token_filtered = [w.lower() for w in tokens if w.isalpha()]\n",
        "    doc_all[filename[:-4]]=token_filtered"
      ],
      "execution_count": 2,
      "outputs": [
        {
          "output_type": "stream",
          "text": [
            "[nltk_data] Downloading package punkt to /root/nltk_data...\n",
            "[nltk_data]   Package punkt is already up-to-date!\n"
          ],
          "name": "stdout"
        }
      ]
    },
    {
      "cell_type": "markdown",
      "metadata": {
        "id": "ZI4qFfNNsE6T",
        "colab_type": "text"
      },
      "source": [
        "**Step2: convert all document to vector, use tfidf weighting**"
      ]
    },
    {
      "cell_type": "code",
      "metadata": {
        "colab_type": "code",
        "id": "HuQ1FZeMsXTk",
        "colab": {}
      },
      "source": [
        "# Declare all function \n",
        "# create tf function\n",
        "def tf(term, token_doc):\n",
        "    tf = token_doc.count(term)/len(token_doc)\n",
        "    return tf\n",
        "\n",
        "# create function to calculate how many doc contain the term \n",
        "def numDocsContaining(word, token_doclist):\n",
        "    doccount = 0\n",
        "    for doc_token in token_doclist:\n",
        "        if doc_token.count(word) > 0:\n",
        "            doccount +=1\n",
        "    return doccount\n",
        "  \n",
        "import math\n",
        "# create function to calculate  Inverse Document Frequency in doclist - this list of all documents\n",
        "def idf(word, token_doclist):\n",
        "    n = len(token_doclist)\n",
        "    df = numDocsContaining(word, token_doclist)\n",
        "    return math.log10(n/df)\n",
        "\n",
        "#define a function to do cosine normalization a data dictionary\n",
        "def cos_norm(dic): # dic is distionary data structure\n",
        "  import numpy as np\n",
        "  dic_norm={}\n",
        "  factor=1.0/np.sqrt(sum([np.square(i) for i in dic.values()]))\n",
        "  for k in dic:\n",
        "    dic_norm[k] = dic[k]*factor\n",
        "  return dic_norm\n",
        "\n",
        "#create function to calculate normalize tfidf \n",
        "def compute_tfidf(token_doc,bag_words_idf):\n",
        "  tfidf_doc={}\n",
        "  for word in set(token_doc):\n",
        "    tfidf_doc[word]= tf(word,token_doc) * bag_words_idf[word]   \n",
        "  tfidf_norm = cos_norm(tfidf_doc)\n",
        "  return tfidf_norm\n",
        "\n",
        "# create normalize term frequency\n",
        "def tf_norm(token_doc):\n",
        "  tf_norm={}\n",
        "  for term in token_doc:\n",
        "    tf = token_doc.count(term)/len(token_doc)\n",
        "    tf_norm[term]=tf\n",
        "  tf_max = max(tf_norm.values())\n",
        "  for term, value in tf_norm.items():\n",
        "    tf_norm[term]= 0.5 + 0.5*value/tf_max\n",
        "  return tf_norm\n",
        "\n",
        "def compute_tfidf_query(query_token,bag_words_idf):\n",
        "  tfidf_query={}\n",
        "  tf_norm_query = tf_norm(query_token)\n",
        "  for term, value in tf_norm_query.items():\n",
        "    tfidf_query[term]=value*bag_words_idf[term]   \n",
        "  return tfidf_query"
      ],
      "execution_count": 0,
      "outputs": []
    },
    {
      "cell_type": "code",
      "metadata": {
        "id": "6qmW_HbRsr9K",
        "colab_type": "code",
        "outputId": "fc75eb70-5fa3-42a2-93fb-216e4be59eb5",
        "colab": {
          "base_uri": "https://localhost:8080/",
          "height": 272
        }
      },
      "source": [
        "import os\n",
        "from datetime import datetime\n",
        "from pytz import timezone\n",
        "now = datetime.now(timezone('Asia/Taipei'))\n",
        "start_time = now.strftime(\"%H:%M:%S\")\n",
        "print(\"Start tfidf processing at\", start_time)\n",
        "\n",
        "#create bag words\n",
        "bag_words =[] # declare bag_words is a list\n",
        "for doc in doc_all.keys():\n",
        "  bag_words += doc_all[doc]\n",
        "\n",
        "bag_words=set(bag_words)\n",
        "\n",
        "#calculate idf for every word in bag_words\n",
        "bag_words_idf={} # declare \"bag_words_idf\" data structure is dictionary \n",
        "bag_words_len = len(bag_words)\n",
        "bag_word_10 = round(bag_words_len/10,0)\n",
        "print(\"the number of term in bag_word\", bag_words_len)\n",
        "print(\"Start idf processing\")\n",
        "i=0\n",
        "for word in bag_words:\n",
        "  i+=1\n",
        "  if (i%bag_word_10==0):print(\"finish %s idf processing\" %(str(round(i*10/bag_word_10))+\"%\"))\n",
        "  bag_words_idf[word]= idf(word,doc_all.values())\n",
        "\n",
        "print(\"finish idf processing\")\n",
        "##calculate tfidf with cosine normalization\n",
        "tfidf={} # declare tfidf dictionary to store tfidf value\n",
        "for doc in doc_all.keys():\n",
        "  tfidf[doc]= compute_tfidf(doc_all[doc],bag_words_idf)\n",
        "finish_time = datetime.now(timezone('Asia/Taipei')).strftime(\"%H:%M:%S\")\n",
        "print(\"finish tfidf processing at\", finish_time)"
      ],
      "execution_count": 4,
      "outputs": [
        {
          "output_type": "stream",
          "text": [
            "Start tfidf processing at 22:08:01\n",
            "the number of term in bag_word 23883\n",
            "Start idf processing\n",
            "finish 10% idf processing\n",
            "finish 20% idf processing\n",
            "finish 30% idf processing\n",
            "finish 40% idf processing\n",
            "finish 50% idf processing\n",
            "finish 60% idf processing\n",
            "finish 70% idf processing\n",
            "finish 80% idf processing\n",
            "finish 90% idf processing\n",
            "finish 100% idf processing\n",
            "finish idf processing\n",
            "finish tfidf processing at 22:11:24\n"
          ],
          "name": "stdout"
        }
      ]
    },
    {
      "cell_type": "markdown",
      "metadata": {
        "id": "6-x6jEqh2iA6",
        "colab_type": "text"
      },
      "source": [
        "**Step3: Input query text, and take similarity, if you change the query text, just need to  run the code again from here** "
      ]
    },
    {
      "cell_type": "code",
      "metadata": {
        "id": "u0n3vWEKIync",
        "colab_type": "code",
        "outputId": "6d26244b-db33-4999-bde3-4617d801fccb",
        "colab": {
          "base_uri": "https://localhost:8080/",
          "height": 54
        }
      },
      "source": [
        "query=\"science fiction movies about dreams, reality and virtual world\"\n",
        "query_token_raw= nltk.word_tokenize(query)\n",
        "query_token = [term for term in query_token_raw if term in bag_words]\n",
        "\n",
        "tfidf_query =compute_tfidf_query(query_token,bag_words_idf) #calculate tfidf for query text\n",
        "print(tfidf_query)"
      ],
      "execution_count": 5,
      "outputs": [
        {
          "output_type": "stream",
          "text": [
            "{'science': 1.4965837344890947, 'fiction': 2.098643725817057, 'movies': 1.9225524667613758, 'about': 0.11864035423331064, 'dreams': 1.098643725817057, 'reality': 1.0017337128090005, 'and': 0.026761718510931582, 'virtual': 2.399673721481038, 'world': 0.4454312120417132}\n"
          ],
          "name": "stdout"
        }
      ]
    },
    {
      "cell_type": "code",
      "metadata": {
        "id": "-JCYWEa9ELUO",
        "colab_type": "code",
        "outputId": "3520e6bb-e8fd-40e0-9b2f-252f4df1eba1",
        "colab": {
          "base_uri": "https://localhost:8080/",
          "height": 54
        }
      },
      "source": [
        "# add tfidf of query text to tfidf of all doc and convert to dataframe\n",
        "tfidf[\"query\"]=tfidf_query\n",
        "\n",
        "import pandas as pd\n",
        "tfidf_df = pd.DataFrame(tfidf).transpose()\n",
        "tfidf_df= tfidf_df.fillna(0) # replace all NaN by zero\n",
        "\n",
        "from scipy.spatial.distance import cosine\n",
        "cosine_sim ={}\n",
        "for row in tfidf_df.index:\n",
        "  if row != \"query\":\n",
        "    cosine_sim[row]= 1-cosine(tfidf_df.loc[row],tfidf_df.loc[\"query\"])\n",
        "\n",
        "# the top 10 relevant document\n",
        "cosine_sim_top10 = dict(sorted(cosine_sim.items(), key=lambda item: item[1],reverse=True)[:10])\n",
        "print(cosine_sim_top10)"
      ],
      "execution_count": 6,
      "outputs": [
        {
          "output_type": "stream",
          "text": [
            "{'Inception (2010)': 0.01788571590120236, 'Alien (1979)': 0.011192516029991051, 'The Great Dictator (1940)': 0.009719218506647032, 'Requiem for a Dream (2000)': 0.009304619078016274, 'Reservoir Dogs (1992)': 0.009123815908107957, 'The Matrix (1999)': 0.006354878507958683, 'A Beautiful Mind (2001)': 0.006154701176799615, 'It_s a Wonderful Life (1946)': 0.006020772511826533, '12 Angry Men (1957)': 0.005822391379437075, 'Interstellar (2014)': 0.0053728162352094655}\n"
          ],
          "name": "stdout"
        }
      ]
    },
    {
      "cell_type": "code",
      "metadata": {
        "id": "AVDc4l4VFXC_",
        "colab_type": "code",
        "outputId": "fb8530d0-1ffe-4632-aaf2-24df708dcb21",
        "colab": {
          "base_uri": "https://localhost:8080/",
          "height": 279
        }
      },
      "source": [
        "#plot barchart\n",
        "import matplotlib.pyplot as plt\n",
        "data = cosine_sim_top10\n",
        "plt.barh(range(len(data)), list(data.values()), align='center', alpha=0.8)\n",
        "plt.yticks(range(len(data)), list(data.keys())) # label for y axis\n",
        "plt.xlabel('Smimilarity score')\n",
        "plt.ylabel('Movie')\n",
        "\n",
        "# save graph\n",
        "plt.savefig(mydrive+\"barchart.png\", bbox_inches='tight', dpi=600)\n",
        "plt.show()"
      ],
      "execution_count": 7,
      "outputs": [
        {
          "output_type": "display_data",
          "data": {
            "image/png": "[encoded data removed]",
            "text/plain": [
              "<Figure size 432x288 with 1 Axes>"
            ]
          },
          "metadata": {
            "tags": [],
            "needs_background": "light"
          }
        }
      ]
    },
    {
      "cell_type": "code",
      "metadata": {
        "id": "vwD4wYtQbrMW",
        "colab_type": "code",
        "outputId": "da6b0b4d-b4b8-4889-da46-54025640e9fe",
        "colab": {
          "base_uri": "https://localhost:8080/",
          "height": 51
        }
      },
      "source": [
        "# this code will read all file in \"movies_synopsis\" folder, use nltk to tokenize and convert to lower()case\n",
        "import nltk,os\n",
        "nltk.download('punkt')\n",
        "file_path = mydrive +\"movies_synopsis/\"\n",
        "doc_all={}\n",
        "\n",
        "for filename in os.listdir(file_path ):\n",
        "  fileExtension = filename.split(\".\")[-1]\n",
        "  if fileExtension == \"txt\": # just read .txt file, in case google drive insert some hidden file which make the error.\n",
        "    text = open(file_path+filename).read()\n",
        "    tokens = nltk.word_tokenize(text)\n",
        "    token_filtered = [w.lower() for w in tokens if w.isalpha()]\n",
        "    doc_all[filename[:-4]]=token_filtered"
      ],
      "execution_count": 15,
      "outputs": [
        {
          "output_type": "stream",
          "text": [
            "[nltk_data] Downloading package punkt to /root/nltk_data...\n",
            "[nltk_data]   Package punkt is already up-to-date!\n"
          ],
          "name": "stdout"
        }
      ]
    },
    {
      "cell_type": "code",
      "metadata": {
        "id": "KvDXeSRvkfCy",
        "colab_type": "code",
        "outputId": "51722c13-4c79-431d-db17-4c9baabeb9bb",
        "colab": {
          "base_uri": "https://localhost:8080/",
          "height": 204
        }
      },
      "source": [
        "nltk.download('stopwords')\n",
        "nltk.download('universal_tagset')\n",
        "nltk.download('averaged_perceptron_tagger')\n",
        "nltk.download('wordnet')\n",
        "\n",
        "from nltk.stem import WordNetLemmatizer\n",
        "\n",
        "wnl = WordNetLemmatizer()\n",
        "\n",
        "pos_bag_words =[] # declare bag_words is a list\n",
        "for doc in doc_all.keys():\n",
        "  from nltk.corpus import stopwords\n",
        "  stopwords = set(stopwords.words('english'))\n",
        "\n",
        "  doc_all[doc] = [word for word in doc_all[doc] if not word in stopwords]\n",
        "\n",
        "\n",
        "\n",
        "  doc_all[doc] = nltk.pos_tag(doc_all[doc], tagset='universal')\n",
        "  fs = ['NOUN']\n",
        "  doc_all[doc] = [word for word in doc_all[doc] if word[1] in fs]\n",
        "  \n",
        "  pos_bag_words_lem = []\n",
        "  for word, tag in doc_all[doc]:\n",
        "    lemmatag = tag[0].lower()\n",
        "    lemmatag = lemmatag if lemmatag in ['n', 'v', 'a'] else None\n",
        "    if not lemmatag:\n",
        "      pos_bag_words_lem.append(wnl.lemmatize(word))\n",
        "    else:\n",
        "      pos_bag_words_lem.append(wnl.lemmatize(word, lemmatag))\n",
        "  \n",
        "  doc_all[doc] = pos_bag_words_lem\n",
        "\n",
        "  pos_bag_words += doc_all[doc]\n",
        "\n",
        "# print(pos_bag_words)\n",
        "pos_bag_words=set(pos_bag_words)\n",
        "print(len(pos_bag_words))\n",
        "\n",
        "filtered_pos_bag_words = []\n",
        "for word in pos_bag_words:\n",
        "  if numDocsContaining(word,doc_all.values()) != 1:\n",
        "    filtered_pos_bag_words.append(word)"
      ],
      "execution_count": 16,
      "outputs": [
        {
          "output_type": "stream",
          "text": [
            "[nltk_data] Downloading package stopwords to /root/nltk_data...\n",
            "[nltk_data]   Package stopwords is already up-to-date!\n",
            "[nltk_data] Downloading package universal_tagset to /root/nltk_data...\n",
            "[nltk_data]   Package universal_tagset is already up-to-date!\n",
            "[nltk_data] Downloading package averaged_perceptron_tagger to\n",
            "[nltk_data]     /root/nltk_data...\n",
            "[nltk_data]   Package averaged_perceptron_tagger is already up-to-\n",
            "[nltk_data]       date!\n",
            "[nltk_data] Downloading package wordnet to /root/nltk_data...\n",
            "[nltk_data]   Package wordnet is already up-to-date!\n",
            "12625\n"
          ],
          "name": "stdout"
        }
      ]
    },
    {
      "cell_type": "code",
      "metadata": {
        "id": "GtYLd_mUjoum",
        "colab_type": "code",
        "outputId": "5d43ff09-d04b-4072-e1d5-1e3a5e4586a4",
        "colab": {
          "base_uri": "https://localhost:8080/",
          "height": 34
        }
      },
      "source": [
        "for doc in doc_all.keys():\n",
        "  doc_all[doc] = [word for word in doc_all[doc] if word in filtered_pos_bag_words]\n",
        "len(filtered_pos_bag_words)"
      ],
      "execution_count": 17,
      "outputs": [
        {
          "output_type": "execute_result",
          "data": {
            "text/plain": [
              "5994"
            ]
          },
          "metadata": {
            "tags": []
          },
          "execution_count": 17
        }
      ]
    },
    {
      "cell_type": "code",
      "metadata": {
        "id": "HI0Q72Kefb7B",
        "colab_type": "code",
        "outputId": "abc99645-13fc-46bc-9f37-b48dc91e3d2d",
        "colab": {
          "base_uri": "https://localhost:8080/",
          "height": 272
        }
      },
      "source": [
        "import os\n",
        "from datetime import datetime\n",
        "from pytz import timezone\n",
        "now = datetime.now(timezone('Asia/Taipei'))\n",
        "start_time = now.strftime(\"%H:%M:%S\")\n",
        "print(\"Start tfidf processing at\", start_time)\n",
        "\n",
        "pos_bag_words = set(filtered_pos_bag_words)\n",
        "# print(pos_bag_words)\n",
        "\n",
        "#calculate idf for every word in bag_words\n",
        "pos_bag_words_idf={} # declare \"bag_words_idf\" data structure is dictionary \n",
        "pos_bag_words_len = len(pos_bag_words)\n",
        "pos_bag_word_10 = round(pos_bag_words_len/10,0)\n",
        "print(\"the number of term in pos_bag_word\", pos_bag_words_len)\n",
        "print(\"Start idf processing\")\n",
        "i=0\n",
        "for word in pos_bag_words:\n",
        "  i+=1\n",
        "  if (i%pos_bag_word_10==0):print(\"finish %s idf processing\" %(str(round(i*10/pos_bag_word_10))+\"%\"))\n",
        "  pos_bag_words_idf[word]= idf(word,doc_all.values())\n",
        "\n",
        "print(\"finish idf processing\")\n",
        "##calculate tfidf with cosine normalization\n",
        "tfidf={} # declare tfidf dictionary to store tfidf value\n",
        "for doc in doc_all.keys():\n",
        "    tfidf[doc]= compute_tfidf(doc_all[doc],pos_bag_words_idf)\n",
        "finish_time = datetime.now(timezone('Asia/Taipei')).strftime(\"%H:%M:%S\")\n",
        "print(\"finish tfidf processing at\", finish_time)"
      ],
      "execution_count": 18,
      "outputs": [
        {
          "output_type": "stream",
          "text": [
            "Start tfidf processing at 22:20:19\n",
            "the number of term in pos_bag_word 5994\n",
            "Start idf processing\n",
            "finish 10% idf processing\n",
            "finish 20% idf processing\n",
            "finish 30% idf processing\n",
            "finish 40% idf processing\n",
            "finish 50% idf processing\n",
            "finish 60% idf processing\n",
            "finish 70% idf processing\n",
            "finish 80% idf processing\n",
            "finish 90% idf processing\n",
            "finish 100% idf processing\n",
            "finish idf processing\n",
            "finish tfidf processing at 22:20:38\n"
          ],
          "name": "stdout"
        }
      ]
    },
    {
      "cell_type": "code",
      "metadata": {
        "id": "c2pgeEcHh181",
        "colab_type": "code",
        "outputId": "aaf4eba9-6d51-453a-d710-4d9bea23c6f9",
        "colab": {
          "base_uri": "https://localhost:8080/",
          "height": 71
        }
      },
      "source": [
        "query=\"science fiction movies about dreams, reality and virtual world\"\n",
        "query= nltk.word_tokenize(query)\n",
        "print(query)\n",
        "query_token_raw = []\n",
        "for word in query:\n",
        "  query_token_raw.append(wnl.lemmatize(word))\n",
        "pos_query_token = [term for term in query_token_raw if term in pos_bag_words]\n",
        "\n",
        "pos_tfidf_query =compute_tfidf_query(pos_query_token,pos_bag_words_idf) #calculate tfidf for query text\n",
        "print(pos_tfidf_query)"
      ],
      "execution_count": 19,
      "outputs": [
        {
          "output_type": "stream",
          "text": [
            "['science', 'fiction', 'movies', 'about', 'dreams', ',', 'reality', 'and', 'virtual', 'world']\n",
            "{'science': 1.3996737214810382, 'fiction': 2.098643725817057, 'movie': 0.5484153727619628, 'dream': 0.8314719974140432, 'reality': 0.9683099573220508, 'world': 0.4454312120417132}\n"
          ],
          "name": "stdout"
        }
      ]
    },
    {
      "cell_type": "code",
      "metadata": {
        "id": "WYirlmNDhljD",
        "colab_type": "code",
        "outputId": "dae96c5e-6905-48d0-942c-24f4ad256656",
        "colab": {
          "base_uri": "https://localhost:8080/",
          "height": 54
        }
      },
      "source": [
        "# add tfidf of query text to tfidf of all doc and convert to dataframe\n",
        "tfidf[\"query\"]=pos_tfidf_query\n",
        "\n",
        "import pandas as pd\n",
        "tfidf_df = pd.DataFrame(tfidf).transpose()\n",
        "tfidf_df= tfidf_df.fillna(0) # replace all NaN by zero\n",
        "\n",
        "from scipy.spatial.distance import cosine\n",
        "cosine_sim ={}\n",
        "for row in tfidf_df.index:\n",
        "  if row != \"query\":\n",
        "    cosine_sim[row]= 1-cosine(tfidf_df.loc[row],tfidf_df.loc[\"query\"])\n",
        "\n",
        "# the top 10 relevant document\n",
        "cosine_sim_top10 = dict(sorted(cosine_sim.items(), key=lambda item: item[1],reverse=True)[:10])\n",
        "print(cosine_sim_top10)"
      ],
      "execution_count": 20,
      "outputs": [
        {
          "output_type": "stream",
          "text": [
            "{'Inception (2010)': 0.07657658869190986, 'Taare Zameen Par (2007)': 0.05369218883406146, 'The Matrix (1999)': 0.04143589239603451, 'The Great Dictator (1940)': 0.03130957791142219, 'In the Mood for Love (2000)': 0.028655884000587384, 'Wild Strawberries (1957)': 0.02721436155195678, 'Inside Out (I) (2015)': 0.025860512674811598, 'Your Name. (2016)': 0.024471634347301707, 'The Silence of the Lambs (1991)': 0.02373114729859893, 'Sherlock Jr. (1924)': 0.022538123138663435}\n"
          ],
          "name": "stdout"
        }
      ]
    },
    {
      "cell_type": "code",
      "metadata": {
        "id": "eIczcX4jcoF0",
        "colab_type": "code",
        "outputId": "a6e4b50e-8b9c-4dec-c6eb-0ac55566296c",
        "colab": {
          "base_uri": "https://localhost:8080/",
          "height": 279
        }
      },
      "source": [
        "import matplotlib.pyplot as plt\n",
        "#plot barchart\n",
        "data = cosine_sim_top10\n",
        "plt.barh(range(len(data)), list(data.values()), align='center', alpha=0.8)\n",
        "plt.yticks(range(len(data)), list(data.keys())) # label for y axis\n",
        "plt.xlabel('Smimilarity score')\n",
        "plt.ylabel('Movie')\n",
        "\n",
        "# save graph\n",
        "plt.savefig(mydrive+\"barchart.png\", bbox_inches='tight', dpi=600)\n",
        "plt.show()"
      ],
      "execution_count": 21,
      "outputs": [
        {
          "output_type": "display_data",
          "data": {
            "image/png": "[encoded data removed]",
            "text/plain": [
              "<Figure size 432x288 with 1 Axes>"
            ]
          },
          "metadata": {
            "tags": [],
            "needs_background": "light"
          }
        }
      ]
    }
  ]
}